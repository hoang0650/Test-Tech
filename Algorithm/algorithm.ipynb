{
 "cells": [
  {
   "cell_type": "code",
   "execution_count": 10,
   "id": "92602ff0",
   "metadata": {},
   "outputs": [
    {
     "name": "stdout",
     "output_type": "stream",
     "text": [
      "(10, 14)\n",
      "(20, 20)\n",
      "[1, 2, 3, 4, 5]\n"
     ]
    }
   ],
   "source": [
    "def miniMaxSum(arr):\n",
    "  arr_sorted = sorted(arr)\n",
    "  return sum(arr_sorted[:4]), sum(arr_sorted[-4:])\n",
    "\n",
    "print(miniMaxSum([1,2,3,4,5]))\n",
    "print(miniMaxSum([5,5,5,5,5]))\n",
    "print(sorted([5,2,1,4,3]))\n"
   ]
  },
  {
   "cell_type": "code",
   "execution_count": null,
   "id": "8db23e3a",
   "metadata": {},
   "outputs": [],
   "source": []
  }
 ],
 "metadata": {
  "kernelspec": {
   "display_name": "Python 3 (ipykernel)",
   "language": "python",
   "name": "python3"
  },
  "language_info": {
   "codemirror_mode": {
    "name": "ipython",
    "version": 3
   },
   "file_extension": ".py",
   "mimetype": "text/x-python",
   "name": "python",
   "nbconvert_exporter": "python",
   "pygments_lexer": "ipython3",
   "version": "3.9.7"
  }
 },
 "nbformat": 4,
 "nbformat_minor": 5
}
